{
 "cells": [
  {
   "cell_type": "code",
   "execution_count": 1,
   "id": "bced0773",
   "metadata": {},
   "outputs": [],
   "source": [
    "import numpy as np\n",
    "import pandas as pd"
   ]
  },
  {
   "cell_type": "code",
   "execution_count": 9,
   "id": "4ccf0644",
   "metadata": {},
   "outputs": [],
   "source": [
    "df=pd.read_csv(r'test_set_features.csv')"
   ]
  },
  {
   "cell_type": "code",
   "execution_count": 10,
   "id": "c3a93f24",
   "metadata": {},
   "outputs": [],
   "source": [
    "df.drop(['opinion_h1n1_vacc_effective','opinion_seas_vacc_effective'],axis=1,inplace=True)"
   ]
  },
  {
   "cell_type": "code",
   "execution_count": 13,
   "id": "7f383d8d",
   "metadata": {},
   "outputs": [],
   "source": [
    "object_features=[]\n",
    "for i in df.columns:\n",
    "    if (df.dtypes[i])=='object':\n",
    "#         print(i)\n",
    "        object_features.append(i)\n",
    "from sklearn.preprocessing import OneHotEncoder,LabelEncoder\n",
    "onhot=OneHotEncoder()\n",
    "labelencod=LabelEncoder()\n",
    "for i in object_features:\n",
    "    if len(df[i].unique())>2:\n",
    "        df[i]=labelencod.fit_transform(df[i])\n",
    "    else:\n",
    "        df[i]=pd.get_dummies(df[i],drop_first=True)"
   ]
  },
  {
   "cell_type": "code",
   "execution_count": 14,
   "id": "d601cfb9",
   "metadata": {},
   "outputs": [],
   "source": [
    "for i in df.columns:\n",
    "    df.fillna(df[i].value_counts(ascending=True).idxmin(),inplace=True)\n",
    "        "
   ]
  },
  {
   "cell_type": "code",
   "execution_count": 18,
   "id": "1ae2e2c7",
   "metadata": {},
   "outputs": [
    {
     "data": {
      "text/plain": [
       "Index(['respondent_id', 'h1n1_concern', 'h1n1_knowledge',\n",
       "       'behavioral_antiviral_meds', 'behavioral_avoidance',\n",
       "       'behavioral_face_mask', 'behavioral_wash_hands',\n",
       "       'behavioral_large_gatherings', 'behavioral_outside_home',\n",
       "       'behavioral_touch_face', 'doctor_recc_h1n1', 'doctor_recc_seasonal',\n",
       "       'chronic_med_condition', 'child_under_6_months', 'health_worker',\n",
       "       'health_insurance', 'opinion_h1n1_risk', 'opinion_h1n1_sick_from_vacc',\n",
       "       'opinion_seas_risk', 'opinion_seas_sick_from_vacc', 'age_group',\n",
       "       'education', 'race', 'sex', 'income_poverty', 'marital_status',\n",
       "       'rent_or_own', 'employment_status', 'hhs_geo_region', 'census_msa',\n",
       "       'household_adults', 'household_children', 'employment_industry',\n",
       "       'employment_occupation'],\n",
       "      dtype='object')"
      ]
     },
     "execution_count": 18,
     "metadata": {},
     "output_type": "execute_result"
    }
   ],
   "source": [
    "df.columns"
   ]
  },
  {
   "cell_type": "code",
   "execution_count": 17,
   "id": "e6e18623",
   "metadata": {},
   "outputs": [],
   "source": [
    "for i in df.columns:\n",
    "    if df[i].dtype=='int64' or df[i].dtype=='uint8':\n",
    "        df[i]=df[i].astype('float32')"
   ]
  },
  {
   "cell_type": "code",
   "execution_count": 22,
   "id": "32a85b56",
   "metadata": {},
   "outputs": [],
   "source": [
    "x=df[['h1n1_concern', 'h1n1_knowledge', 'behavioral_antiviral_meds',\n",
    "       'behavioral_avoidance', 'behavioral_face_mask', 'behavioral_wash_hands',\n",
    "       'behavioral_large_gatherings', 'behavioral_outside_home',\n",
    "       'behavioral_touch_face', 'doctor_recc_h1n1', 'doctor_recc_seasonal',\n",
    "       'chronic_med_condition', 'child_under_6_months', 'health_worker',\n",
    "       'opinion_h1n1_risk', 'opinion_h1n1_sick_from_vacc', 'opinion_seas_risk',\n",
    "       'opinion_seas_sick_from_vacc', 'age_group', 'education', 'race', 'sex',\n",
    "       'income_poverty', 'marital_status', 'rent_or_own', 'employment_status',\n",
    "       'hhs_geo_region', 'census_msa', 'household_adults',\n",
    "       'household_children', 'employment_industry']]"
   ]
  },
  {
   "cell_type": "code",
   "execution_count": 25,
   "id": "5b147b7a",
   "metadata": {},
   "outputs": [],
   "source": [
    "import joblib\n",
    "h1n1=joblib.load(r'h1n1_vaccine.pkl')\n",
    "seasonal=joblib.load(r'seasonal_vaccine.pkl')"
   ]
  },
  {
   "cell_type": "code",
   "execution_count": 26,
   "id": "d4a7c99e",
   "metadata": {},
   "outputs": [],
   "source": [
    "df['h1n1_vaccine']=h1n1.predict(x)\n",
    "df['seasonal_vaccine']=seasonal.predict(x)"
   ]
  },
  {
   "cell_type": "code",
   "execution_count": 30,
   "id": "b640575a",
   "metadata": {},
   "outputs": [
    {
     "name": "stderr",
     "output_type": "stream",
     "text": [
      "C:\\Users\\Shubhayan\\AppData\\Local\\Temp\\ipykernel_8876\\1818039913.py:2: SettingWithCopyWarning: \n",
      "A value is trying to be set on a copy of a slice from a DataFrame.\n",
      "Try using .loc[row_indexer,col_indexer] = value instead\n",
      "\n",
      "See the caveats in the documentation: https://pandas.pydata.org/pandas-docs/stable/user_guide/indexing.html#returning-a-view-versus-a-copy\n",
      "  df1.h1n1_vaccine=df.h1n1_vaccine.astype('float64')\n",
      "C:\\Users\\Shubhayan\\AppData\\Local\\Temp\\ipykernel_8876\\1818039913.py:3: SettingWithCopyWarning: \n",
      "A value is trying to be set on a copy of a slice from a DataFrame.\n",
      "Try using .loc[row_indexer,col_indexer] = value instead\n",
      "\n",
      "See the caveats in the documentation: https://pandas.pydata.org/pandas-docs/stable/user_guide/indexing.html#returning-a-view-versus-a-copy\n",
      "  df1.seasonal_vaccine=df.seasonal_vaccine.astype('float64')\n"
     ]
    }
   ],
   "source": [
    "df1=df[['respondent_id','h1n1_vaccine','seasonal_vaccine']]\n",
    "df1.h1n1_vaccine=df.h1n1_vaccine.astype('float64')\n",
    "df1.seasonal_vaccine=df.seasonal_vaccine.astype('float64')"
   ]
  },
  {
   "cell_type": "code",
   "execution_count": 36,
   "id": "acf9a49f",
   "metadata": {},
   "outputs": [],
   "source": [
    "df1.set_index('respondent_id',inplace=True)"
   ]
  },
  {
   "cell_type": "code",
   "execution_count": 37,
   "id": "c57d71ce",
   "metadata": {},
   "outputs": [
    {
     "data": {
      "text/plain": [
       "h1n1_vaccine        float64\n",
       "seasonal_vaccine    float64\n",
       "dtype: object"
      ]
     },
     "execution_count": 37,
     "metadata": {},
     "output_type": "execute_result"
    }
   ],
   "source": [
    "df1.dtypes"
   ]
  },
  {
   "cell_type": "code",
   "execution_count": 38,
   "id": "f8ef30e5",
   "metadata": {},
   "outputs": [],
   "source": [
    "df1.to_csv(r'submission_final.csv')"
   ]
  },
  {
   "cell_type": "code",
   "execution_count": null,
   "id": "53f1ab57",
   "metadata": {},
   "outputs": [],
   "source": [
    "df"
   ]
  }
 ],
 "metadata": {
  "kernelspec": {
   "display_name": "Python 3 (ipykernel)",
   "language": "python",
   "name": "python3"
  },
  "language_info": {
   "codemirror_mode": {
    "name": "ipython",
    "version": 3
   },
   "file_extension": ".py",
   "mimetype": "text/x-python",
   "name": "python",
   "nbconvert_exporter": "python",
   "pygments_lexer": "ipython3",
   "version": "3.10.8"
  }
 },
 "nbformat": 4,
 "nbformat_minor": 5
}
